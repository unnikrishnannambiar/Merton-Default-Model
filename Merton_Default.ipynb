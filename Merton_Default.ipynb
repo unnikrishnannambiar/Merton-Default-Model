{
 "metadata": {
  "language_info": {
   "codemirror_mode": {
    "name": "ipython",
    "version": 3
   },
   "file_extension": ".py",
   "mimetype": "text/x-python",
   "name": "python",
   "nbconvert_exporter": "python",
   "pygments_lexer": "ipython3",
   "version": "3.7.6-final"
  },
  "orig_nbformat": 2,
  "kernelspec": {
   "name": "python376jvsc74a57bd0289a995803b514da119a6d355cc551a48870dee0744cad707d4a215534d03245",
   "display_name": "Python 3.7.6 64-bit (conda)"
  }
 },
 "nbformat": 4,
 "nbformat_minor": 2,
 "cells": [
  {
   "cell_type": "code",
   "execution_count": 1,
   "metadata": {},
   "outputs": [],
   "source": [
    "import pandas_datareader.data as web\n",
    "import pandas as pd \n",
    "import numpy as np \n",
    "from datetime import datetime\n",
    "import matplotlib.pyplot as plt\n",
    "import seaborn as sns\n",
    "plt.style.use('seaborn')"
   ]
  },
  {
   "cell_type": "code",
   "execution_count": 2,
   "metadata": {},
   "outputs": [],
   "source": [
    "# Black Scholes Merton Valuation Model\n",
    "\n",
    "def N(z):\n",
    "    '''\n",
    "    Normal cumulative density function which returns the \n",
    "    cumulative density under the normal curve along the \n",
    "    point 'z' where the cumulative density is calculated.\n",
    "    Refer to scipy.stats documentation for more information\n",
    "    '''\n",
    "    from scipy.stats import norm\n",
    "\n",
    "    return norm.cdf(z)\n",
    "\n",
    "\n",
    "def call_value(S, K, r, t, vol):\n",
    "    '''\n",
    "    Returns the Black-Scholes call option value where\n",
    "    the parameters have their usual meanings.\n",
    "\n",
    "    :param S : Underlying stock price\n",
    "    :param K : Strike price\n",
    "    :param r : Risk free rate (Usually treasury bond rates or bank rates)\n",
    "    :param vol : volatility of the stock\n",
    "    :param t : time to expiration (T - t in documentation)\n",
    "    '''\n",
    "    d1 = (1.0/(vol * np.sqrt(t))) * (np.log(S / K) + t * (r + (vol ** 2.0) / 2))\n",
    "    d2 = d1 - vol * np.sqrt(t)\n",
    "\n",
    "    return N(d1) * S - N(d2) * K * np.exp(-r * t), N(-d2), d1\n",
    "\n",
    "def put_value(S, K, r, t, vol):\n",
    "    '''\n",
    "    Returns the Black-Scholes put option value where\n",
    "    the parameters have their usual meanings.\n",
    "\n",
    "    :param S : Underlying stock price\n",
    "    :param K : Strike price\n",
    "    :param r : Risk free rate (Usually treasury bond rates or bank rates)\n",
    "    :param vol : volatility of the stock\n",
    "    :param t : time to expiration (T - t in documentation)\n",
    "    '''\n",
    "    d1 = (1.0/(vol * np.sqrt(t))) * (np.log(S / K) + t * (r + (vol ** 2.0) / 2))\n",
    "    d2 = d1 - vol * np.sqrt(t)\n",
    "\n",
    "    return  N(-d2) * K * np.exp(-r * t) - N(-d1) * S"
   ]
  },
  {
   "source": [
    "The Merton Model is the original structural model, where default can only occur at maturity when the market value of assets equals the total book value of liabilities. At this point it is useful to determine the values of the parameters needed in the estimation of real default probabilities. Our aim is to select empirically reasonable parameter values. Since, the term structure of Expected Default Frequencies (EDFs) produced by the models will be compared with the default probabilities provided by Moody’s for bonds over the corresponding time period of data taken, the chosen parameter values should represent that period.\n",
    "\n",
    ">$$EDF = N(-\\frac{ln({\\frac{V_a}{P}}) + (\\mu + \\sigma_a ^ 2 / 2 )t}{\\sigma_a {t^{1/2}}} ) = N(-DD)$$\n",
    "\n",
    "The value of assets is denoted as Va and the volatility of assets as $\\sigma_a$ . P is the face value of the Debt. The real default probability for this model is calculated using the Distance to Default (DD) measure that includes the actual drift µ (equals the asset risk premium plus the risk-free interest rate) instead of the risk-free interest rate. This is crucial, since failure to include the actual drift µ, will result in a riskneutral probability of default."
   ],
   "cell_type": "markdown",
   "metadata": {}
  },
  {
   "cell_type": "code",
   "execution_count": 3,
   "metadata": {},
   "outputs": [],
   "source": [
    "start = datetime(2000, 1, 1)\n",
    "end = datetime(2021, 4, 18)\n",
    "start1 = '2000-01-01'\n",
    "end1 = '2021-04-18'\n",
    "\n",
    "infy = pd.DataFrame()\n",
    "infy['INFY'] = web.DataReader('INFY.NS', 'yahoo', start, end)['Close']"
   ]
  },
  {
   "cell_type": "code",
   "execution_count": 4,
   "metadata": {},
   "outputs": [
    {
     "output_type": "execute_result",
     "data": {
      "text/plain": [
       "                  INFY\n",
       "Date                  \n",
       "2000-01-03  122.071877\n",
       "2000-01-04  131.686722\n",
       "2000-01-05  121.151955\n",
       "2000-01-06  111.459763\n",
       "2000-01-07  102.542969"
      ],
      "text/html": "<div>\n<style scoped>\n    .dataframe tbody tr th:only-of-type {\n        vertical-align: middle;\n    }\n\n    .dataframe tbody tr th {\n        vertical-align: top;\n    }\n\n    .dataframe thead th {\n        text-align: right;\n    }\n</style>\n<table border=\"1\" class=\"dataframe\">\n  <thead>\n    <tr style=\"text-align: right;\">\n      <th></th>\n      <th>INFY</th>\n    </tr>\n    <tr>\n      <th>Date</th>\n      <th></th>\n    </tr>\n  </thead>\n  <tbody>\n    <tr>\n      <th>2000-01-03</th>\n      <td>122.071877</td>\n    </tr>\n    <tr>\n      <th>2000-01-04</th>\n      <td>131.686722</td>\n    </tr>\n    <tr>\n      <th>2000-01-05</th>\n      <td>121.151955</td>\n    </tr>\n    <tr>\n      <th>2000-01-06</th>\n      <td>111.459763</td>\n    </tr>\n    <tr>\n      <th>2000-01-07</th>\n      <td>102.542969</td>\n    </tr>\n  </tbody>\n</table>\n</div>"
     },
     "metadata": {},
     "execution_count": 4
    }
   ],
   "source": [
    "infy.head()"
   ]
  },
  {
   "cell_type": "code",
   "execution_count": 5,
   "metadata": {},
   "outputs": [],
   "source": [
    "t = 252 \n",
    "rets = infy.pct_change()[1:].tail(t)"
   ]
  },
  {
   "cell_type": "code",
   "execution_count": 6,
   "metadata": {},
   "outputs": [
    {
     "output_type": "execute_result",
     "data": {
      "text/plain": [
       "                INFY\n",
       "Date                \n",
       "2021-04-09  0.000833\n",
       "2021-04-12 -0.010617\n",
       "2021-04-13 -0.020060\n",
       "2021-04-15 -0.026053\n",
       "2021-04-16 -0.005144"
      ],
      "text/html": "<div>\n<style scoped>\n    .dataframe tbody tr th:only-of-type {\n        vertical-align: middle;\n    }\n\n    .dataframe tbody tr th {\n        vertical-align: top;\n    }\n\n    .dataframe thead th {\n        text-align: right;\n    }\n</style>\n<table border=\"1\" class=\"dataframe\">\n  <thead>\n    <tr style=\"text-align: right;\">\n      <th></th>\n      <th>INFY</th>\n    </tr>\n    <tr>\n      <th>Date</th>\n      <th></th>\n    </tr>\n  </thead>\n  <tbody>\n    <tr>\n      <th>2021-04-09</th>\n      <td>0.000833</td>\n    </tr>\n    <tr>\n      <th>2021-04-12</th>\n      <td>-0.010617</td>\n    </tr>\n    <tr>\n      <th>2021-04-13</th>\n      <td>-0.020060</td>\n    </tr>\n    <tr>\n      <th>2021-04-15</th>\n      <td>-0.026053</td>\n    </tr>\n    <tr>\n      <th>2021-04-16</th>\n      <td>-0.005144</td>\n    </tr>\n  </tbody>\n</table>\n</div>"
     },
     "metadata": {},
     "execution_count": 6
    }
   ],
   "source": [
    "rets.tail()"
   ]
  },
  {
   "cell_type": "code",
   "execution_count": 7,
   "metadata": {},
   "outputs": [],
   "source": [
    "mu = rets.mean()\n",
    "sig = rets.std()\n",
    "\n",
    "E = 65844  # consolidated shareholder equity\n",
    "V = 92768 # total assets \n",
    "P = V - E # total liabilities"
   ]
  },
  {
   "cell_type": "code",
   "execution_count": 8,
   "metadata": {},
   "outputs": [
    {
     "output_type": "execute_result",
     "data": {
      "text/plain": [
       "26924"
      ]
     },
     "metadata": {},
     "execution_count": 8
    }
   ],
   "source": [
    "P"
   ]
  },
  {
   "cell_type": "code",
   "execution_count": 9,
   "metadata": {},
   "outputs": [],
   "source": [
    "val, prob,d1 = call_value(V, P, mu, t, sig)"
   ]
  },
  {
   "cell_type": "code",
   "execution_count": 10,
   "metadata": {},
   "outputs": [
    {
     "output_type": "execute_result",
     "data": {
      "text/plain": [
       "3.828083940431273e-09"
      ]
     },
     "metadata": {},
     "execution_count": 10
    }
   ],
   "source": [
    "prob[0] * 100"
   ]
  },
  {
   "cell_type": "code",
   "execution_count": 11,
   "metadata": {},
   "outputs": [
    {
     "output_type": "execute_result",
     "data": {
      "text/plain": [
       "INFY    6.813135\n",
       "dtype: float64"
      ]
     },
     "metadata": {},
     "execution_count": 11
    }
   ],
   "source": [
    "d1"
   ]
  },
  {
   "cell_type": "code",
   "execution_count": null,
   "metadata": {},
   "outputs": [],
   "source": []
  }
 ]
}